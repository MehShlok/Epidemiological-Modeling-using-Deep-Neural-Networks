{
  "nbformat": 4,
  "nbformat_minor": 0,
  "metadata": {
    "colab": {
      "provenance": [],
      "gpuType": "T4"
    },
    "kernelspec": {
      "name": "python3",
      "display_name": "Python 3"
    },
    "language_info": {
      "name": "python"
    },
    "accelerator": "GPU"
  },
  "cells": [
    {
      "cell_type": "markdown",
      "source": [
        "# IMPORTING LIBRARIES\n"
      ],
      "metadata": {
        "id": "ffNQzW4ouYL3"
      }
    },
    {
      "cell_type": "code",
      "execution_count": 1,
      "metadata": {
        "id": "Z9r4sM8CsyKJ"
      },
      "outputs": [],
      "source": [
        "import torch\n",
        "import torch.nn as nn\n",
        "import torch.optim as optim\n",
        "import pandas as pd\n",
        "import numpy as np\n",
        "from sklearn.model_selection import train_test_split\n",
        "import matplotlib.pyplot as plt\n",
        "from sklearn.preprocessing import StandardScaler\n",
        "from sklearn.metrics import mean_squared_error\n"
      ]
    },
    {
      "cell_type": "markdown",
      "source": [
        "# INPUT AND NORMALIZATION\n"
      ],
      "metadata": {
        "id": "SXK_3MFD_8LU"
      }
    },
    {
      "cell_type": "code",
      "source": [
        "# Loading the data\n",
        "file_path = \"\"\n",
        "df = pd.read_excel(file_path)\n",
        "confirmed_cases = df['Confirmed Cases'].values\n",
        "df.rename(columns={'Confirmed Cases': 'E', 'Active Cases': 'I', 'Cured/Discharged': 'R', 'Death': 'D'}, inplace=True)\n",
        "\n",
        "E = df['E'].values\n",
        "I = df['I'].values\n",
        "R = df['R'].values\n",
        "D = df['D'].values\n",
        "mean_E = np.mean(E)\n",
        "std_E = np.std(E)\n",
        "mean_I = np.mean(I)\n",
        "std_I = np.std(I)\n",
        "mean_R = np.mean(R)\n",
        "std_R = np.std(R)\n",
        "mean_D = np.mean(D)\n",
        "std_D = np.std(D)\n",
        "\n",
        "initial_S = 138.31e7 #Indian population at the time when covid - 19 hit\n",
        "S = initial_S - confirmed_cases\n",
        "\n",
        "\n",
        "mean_S = np.mean(S)\n",
        "std_S = np.std(S)\n",
        "\n",
        "# Calculating z-scores\n",
        "def calculate_z_scores(data):\n",
        "    mean = np.mean(data)\n",
        "    std = np.std(data)\n",
        "    z_scores = (data - mean) / std\n",
        "    return z_scores\n",
        "\n",
        "S_z_scores = calculate_z_scores(S)\n",
        "E_z_scores = calculate_z_scores(E)\n",
        "I_z_scores = calculate_z_scores(I)\n",
        "R_z_scores = calculate_z_scores(R)\n",
        "D_z_scores = calculate_z_scores(D)\n",
        "\n",
        "# Converting z-scores to torch tensors\n",
        "S_z = torch.tensor(S_z_scores, dtype=torch.float32).reshape(-1, 1)\n",
        "E_z = torch.tensor(E_z_scores, dtype=torch.float32).reshape(-1, 1)\n",
        "I_z = torch.tensor(I_z_scores, dtype=torch.float32).reshape(-1, 1)\n",
        "R_z = torch.tensor(R_z_scores, dtype=torch.float32).reshape(-1, 1)\n",
        "D_z = torch.tensor(D_z_scores, dtype=torch.float32).reshape(-1, 1)\n",
        "\n",
        "#Debugging Steps(If needed)\n",
        "print(S_z)\n",
        "print(E_z)\n",
        "print(I_z)\n",
        "print(R_z)\n",
        "print(D_z)"
      ],
      "metadata": {
        "id": "h6BdudHK_7zw"
      },
      "execution_count": null,
      "outputs": []
    },
    {
      "cell_type": "markdown",
      "source": [
        "# NEURAL NETWORK MODEL\n"
      ],
      "metadata": {
        "id": "PL4q7nLVugk5"
      }
    },
    {
      "cell_type": "code",
      "source": [
        "class ParameterModel(nn.Module):\n",
        "    def __init__(self):\n",
        "        super(ParameterModel, self).__init__()\n",
        "        self.fc1 = nn.Linear(1, 35)\n",
        "        self.fc2 = nn.Linear(35, 50)\n",
        "        self.fc3 = nn.Linear(50, 30)\n",
        "        self.fc4 = nn.Linear(30, 30)\n",
        "        self.fc5 = nn.Linear(30, 1)\n",
        "        self.relu = nn.ReLU()\n",
        "        self.sigmoid = nn.Sigmoid()\n",
        "\n",
        "    def forward(self, x):\n",
        "        x = self.relu(self.fc1(x))\n",
        "        #print(f\"After fc1: {x}\")\n",
        "        x = self.relu(self.fc2(x))\n",
        "        #print(f\"After fc2: {x}\")\n",
        "        x = self.relu(self.fc3(x))\n",
        "        #print(f\"After fc3: {x}\")\n",
        "        x = self.relu(self.fc4(x))\n",
        "        #print(f\"After fc4: {x}\")\n",
        "        x = self.sigmoid(self.fc5(x))\n",
        "        #print(f\"After fc5: {x}\")\n",
        "        return x\n"
      ],
      "metadata": {
        "id": "37m7SMxKuUak"
      },
      "execution_count": 7,
      "outputs": []
    },
    {
      "cell_type": "markdown",
      "source": [
        "# RUNGE KUTTA METHOD FOR SOLVING ODEs\n"
      ],
      "metadata": {
        "id": "dy228boUuvqH"
      }
    },
    {
      "cell_type": "code",
      "source": [
        "# Model using the fourth-order Runge-Kutta method\n",
        "def seird_model_rk4(S, E, I, R, D, alpha, beta, gamma, mu, dt=1):\n",
        "    def derivatives(S, E, I, R, D, alpha, beta, gamma, mu):\n",
        "        dS_dt = -alpha * S * I\n",
        "        dE_dt = alpha * S * I - gamma * E  - mu * E - beta * E\n",
        "        dI_dt = beta * E\n",
        "        dR_dt = gamma * E\n",
        "        dD_dt = mu * E\n",
        "        return dS_dt, dE_dt, dI_dt, dR_dt, dD_dt\n",
        "\n",
        "    K1_S, K1_E, K1_I, K1_R, K1_D = derivatives(S, E, I, R, D, alpha, beta, gamma, mu)\n",
        "    K2_S, K2_E, K2_I, K2_R, K2_D = derivatives(S + 0.5 * dt * K1_S, E + 0.5 * dt * K1_E, I + 0.5 * dt * K1_I, R + 0.5 * dt * K1_R, D + 0.5 * dt * K1_D, alpha, beta, gamma, mu)\n",
        "    K3_S, K3_E, K3_I, K3_R, K3_D = derivatives(S + 0.5 * dt * K2_S, E + 0.5 * dt * K2_E, I + 0.5 * dt * K2_I, R + 0.5 * dt * K2_R, D + 0.5 * dt * K2_D, alpha, beta, gamma, mu)\n",
        "    K4_S, K4_E, K4_I, K4_R, K4_D = derivatives(S + 0.5 * dt * K3_S, E + dt * K3_E, I + dt * K3_I, R + dt * K3_R, D + dt * K3_D, alpha, beta, gamma, mu)\n",
        "\n",
        "    S_next = S + (dt / 6) * (K1_S + 2 * K2_S + 2 * K3_S + K4_S)\n",
        "    E_next = E + (dt / 6) * (K1_E + 2 * K2_E + 2 * K3_E + K4_E)\n",
        "    I_next = I + (dt / 6) * (K1_I + 2 * K2_I + 2 * K3_I + K4_I)\n",
        "    R_next = R + (dt / 6) * (K1_R + 2 * K2_R + 2 * K3_R + K4_R)\n",
        "    D_next = D + (dt / 6) * (K1_D + 2 * K2_D + 2 * K3_D + K4_D)\n",
        "\n",
        "    return S_next, E_next, I_next, R_next, D_next"
      ],
      "metadata": {
        "id": "becI5xBJu2B4"
      },
      "execution_count": 8,
      "outputs": []
    },
    {
      "cell_type": "markdown",
      "source": [
        "# LOSS FUNCTION CALCULATION\n"
      ],
      "metadata": {
        "id": "fgBJp7a6u9iu"
      }
    },
    {
      "cell_type": "code",
      "source": [
        "# Loss function\n",
        "def loss_function(S_true, E_true, I_true, R_true, D_true, S_pred, E_pred, I_pred, R_pred, D_pred, omega_S, omega_E, omega_I, omega_R, omega_D, omega_params):\n",
        "    loss_S = torch.mean(torch.abs(S_true - S_pred) ** 2) * omega_S\n",
        "    loss_E = torch.mean(torch.abs(E_true - E_pred) ** 2) * omega_E\n",
        "    loss_I = torch.mean(torch.abs(I_true - I_pred) ** 2) * omega_I\n",
        "    loss_R = torch.mean(torch.abs(R_true - R_pred) ** 2) * omega_R\n",
        "    loss_D = torch.mean(torch.abs(D_true - D_pred) ** 2) * omega_D\n",
        "    regularization_loss = omega_params * (torch.sum(alpha_model.fc1.weight**2) + torch.sum(beta_model.fc1.weight**2) + torch.sum(gamma_model.fc1.weight**2) + torch.sum(mu_model.fc1.weight**2))\n",
        "    total_loss = loss_S + loss_E + loss_I + loss_R + loss_D + regularization_loss\n",
        "    return total_loss"
      ],
      "metadata": {
        "id": "VwimIRp6vCtI"
      },
      "execution_count": 9,
      "outputs": []
    },
    {
      "cell_type": "markdown",
      "source": [
        "# TRAINING THE MODEL"
      ],
      "metadata": {
        "id": "_aMGYT5CvGxp"
      }
    },
    {
      "cell_type": "code",
      "source": [
        "# Training\n",
        "def train_SEIRD_model(max_epoch, S_data, E_data, I_data, R_data, D_data, alpha_model, beta_model, gamma_model, mu_model, omega_S, omega_E, omega_I, omega_R, omega_D, omega_params):\n",
        "    optimizer = optim.Adam(list(alpha_model.parameters()) + list(beta_model.parameters()) + list(gamma_model.parameters()) + list(mu_model.parameters()), lr=0.001)\n",
        "    scheduler = optim.lr_scheduler.StepLR(optimizer, step_size=1000, gamma=0.95)\n",
        "\n",
        "    total_loss_values = []\n",
        "    log_loss_values = []\n",
        "\n",
        "    for epoch in range(max_epoch):\n",
        "        optimizer.zero_grad()\n",
        "\n",
        "        alpha = alpha_model(S_data)\n",
        "        beta = beta_model(E_data)\n",
        "        gamma = gamma_model(I_data)\n",
        "        mu = mu_model(R_data)\n",
        "\n",
        "        S_pred, E_pred, I_pred, R_pred, D_pred = seird_model_rk4(S_data, E_data, I_data, R_data, D_data, alpha, beta, gamma, mu)\n",
        "        loss = loss_function(S_data, E_data, I_data, R_data, D_data, S_pred, E_pred, I_pred, R_pred, D_pred, omega_S, omega_E, omega_I, omega_R, omega_D, omega_params)\n",
        "\n",
        "        loss.backward()\n",
        "        optimizer.step()\n",
        "        scheduler.step()\n",
        "\n",
        "        total_loss_values.append(loss.item())\n",
        "        log_loss_values.append(torch.log(loss).item())\n",
        "\n",
        "        if epoch % 1 == 0:\n",
        "            print(f\"Epoch {epoch}, Loss: {loss.item()}\")\n",
        "\n",
        "    return total_loss_values, log_loss_values\n",
        "\n",
        "# Hyperparameters\n",
        "max_epoch = 100\n",
        "# Change according to compartment weightage\n",
        "omega_S = 1.0\n",
        "omega_E = 1.0\n",
        "omega_I = 1.0\n",
        "omega_R = 1.0\n",
        "omega_D = 1.0\n",
        "omega_params = 0.0005\n",
        "\n",
        "# Initialize models\n",
        "alpha_model = ParameterModel()\n",
        "beta_model = ParameterModel()\n",
        "gamma_model = ParameterModel()\n",
        "mu_model = ParameterModel()\n",
        "\n",
        "total_loss_values, log_loss_values = train_SEIRD_model(max_epoch, S_z, E_z, I_z, R_z, D_z, alpha_model, beta_model, gamma_model, mu_model, omega_S, omega_E, omega_I, omega_R, omega_D, omega_params)\n",
        "\n",
        "# Function to predict SEIRD values\n",
        "def predict_seird(S, E, I, R, D, alpha_model, beta_model, gamma_model, mu_model):\n",
        "    alpha = alpha_model(S)\n",
        "    beta = beta_model(E)\n",
        "    gamma = gamma_model(I)\n",
        "    mu = mu_model(R)\n",
        "    S_pred, E_pred, I_pred, R_pred, D_pred = seird_model_rk4(S, E, I, R, D, alpha, beta, gamma, mu)\n",
        "    return S_pred, E_pred, I_pred, R_pred, D_pred\n",
        "\n",
        "S_pred, E_pred, I_pred, R_pred, D_pred = predict_seird(S_z, E_z, I_z, R_z, D_z, alpha_model, beta_model, gamma_model, mu_model)\n",
        "\n",
        "# Converting predicted values from tensors to numpy arrays\n",
        "S_pred = S_pred.detach().numpy()\n",
        "E_pred = E_pred.detach().numpy()\n",
        "I_pred = I_pred.detach().numpy()\n",
        "R_pred = R_pred.detach().numpy()\n",
        "D_pred = D_pred.detach().numpy()"
      ],
      "metadata": {
        "id": "cLo-FT3IvMD3"
      },
      "execution_count": null,
      "outputs": []
    },
    {
      "cell_type": "code",
      "source": [
        "def denormalize_data(normalized_data, mean, std):\n",
        "    denormalized_data = (normalized_data * std) + mean\n",
        "    return denormalized_data\n",
        "# Denormalizing predicted values\n",
        "S_pred_denormalized = denormalize_data(S_pred, mean_S, std_S)\n",
        "E_pred_denormalized = denormalize_data(E_pred, mean_E, std_E)\n",
        "I_pred_denormalized = denormalize_data(I_pred, mean_I, std_I)\n",
        "R_pred_denormalized = denormalize_data(R_pred, mean_R, std_R)\n",
        "D_pred_denormalized = denormalize_data(D_pred, mean_D, std_D)\n"
      ],
      "metadata": {
        "id": "3a-7hPsh6X3B"
      },
      "execution_count": 40,
      "outputs": []
    },
    {
      "cell_type": "code",
      "source": [
        "# Plotting the actual vs predicted values\n",
        "plt.figure(figsize=(14, 8))\n",
        "\n",
        "plt.subplot(3, 2, 1)\n",
        "plt.plot(S, label='Original S', color='blue')\n",
        "plt.plot(S_pred_denormalized, label='S-Predicted', color='orange')\n",
        "plt.title('Susceptible Population(S)')\n",
        "plt.xlabel('Time')\n",
        "plt.ylabel('People')\n",
        "plt.legend()\n",
        "\n",
        "plt.subplot(3, 2, 2)\n",
        "plt.plot(E, label='Original E', color='blue')\n",
        "plt.plot(E_pred_denormalized, label='E-Predicted', color='orange')\n",
        "plt.title('Exposed (E)')\n",
        "plt.xlabel('Time')\n",
        "plt.ylabel('People')\n",
        "plt.legend()\n",
        "\n",
        "plt.subplot(3, 2, 3)\n",
        "plt.plot(I, label='Original I', color='blue')\n",
        "plt.plot(I_pred_denormalized, label='I-Predicted', color='orange')\n",
        "plt.title('Infected (I)')\n",
        "plt.xlabel('Time')\n",
        "plt.ylabel('People')\n",
        "plt.legend()\n",
        "\n",
        "plt.subplot(3, 2, 4)\n",
        "plt.plot(R, label='Original R', color='blue')\n",
        "plt.plot(R_pred_denormalized, label='R-Predicted', color='orange')\n",
        "plt.title('Recovered (R)')\n",
        "plt.xlabel('Time')\n",
        "plt.ylabel('People')\n",
        "plt.legend()\n",
        "\n",
        "plt.subplot(3, 2, 5)\n",
        "plt.plot(D, label='Original D', color='blue')\n",
        "plt.plot(D_pred_denormalized, label='D-Predicted', color='orange')\n",
        "plt.title('Deaths (D)')\n",
        "plt.xlabel('Time')\n",
        "plt.ylabel('People')\n",
        "plt.legend()\n",
        "\n",
        "plt.tight_layout()\n",
        "plt.show()"
      ],
      "metadata": {
        "id": "K6cDUF6Vx-AD"
      },
      "execution_count": null,
      "outputs": []
    },
    {
      "cell_type": "code",
      "source": [
        "import torch\n",
        "import matplotlib.pyplot as plt\n",
        "\n",
        "alpha_model.eval()\n",
        "beta_model.eval()\n",
        "gamma_model.eval()\n",
        "mu_model.eval()\n",
        "\n",
        "S_pred_tensor = torch.tensor(S_z, dtype=torch.float32)\n",
        "E_pred_tensor = torch.tensor(E_z, dtype=torch.float32)\n",
        "I_pred_tensor = torch.tensor(I_z, dtype=torch.float32)\n",
        "R_pred_tensor = torch.tensor(R_z, dtype=torch.float32)\n",
        "\n",
        "with torch.no_grad():  # Disable gradient calculation\n",
        "    alpha_values = alpha_model(S_pred_tensor).numpy()\n",
        "    beta_values = beta_model(E_pred_tensor).numpy()\n",
        "    gamma_values = gamma_model(I_pred_tensor).numpy()\n",
        "    mu_values = mu_model(R_pred_tensor).numpy()\n",
        "\n",
        "#Debugging Steps(If needed)\n",
        "print(\"Predicted Beta values (first array):\\n\", beta_values)\n",
        "print(\"Predicted Gamma values (first array):\\n\", gamma_values)\n",
        "print(\"Predicted Mu values (first array):\\n\", mu_values)\n",
        "\n",
        "# Plotting the predicted values\n",
        "time_steps = range(len(E_z))\n",
        "\n",
        "plt.figure(figsize=(14, 8))\n",
        "\n",
        "# Plotting Beta values\n",
        "plt.subplot(4, 1, 1)\n",
        "plt.plot(time_steps, beta_values, label='Beta', color='blue')\n",
        "plt.xlabel('Time Steps')\n",
        "plt.ylabel('Beta')\n",
        "plt.title('Predicted Beta Values')\n",
        "plt.legend()\n",
        "\n",
        "# Plotting Gamma values\n",
        "plt.subplot(4, 1, 2)\n",
        "plt.plot(time_steps, gamma_values, label='Gamma', color='green')\n",
        "plt.xlabel('Time Steps')\n",
        "plt.ylabel('Gamma')\n",
        "plt.title('Predicted Gamma Values')\n",
        "plt.legend()\n",
        "\n",
        "# Plotting Mu values\n",
        "plt.subplot(4, 1, 3)\n",
        "plt.plot(time_steps, mu_values, label='Mu', color='red')\n",
        "plt.xlabel('Time Steps')\n",
        "plt.ylabel('Mu')\n",
        "plt.title('Predicted Mu Values')\n",
        "plt.legend()\n",
        "\n",
        "# Plotting Alpha values\n",
        "plt.subplot(4, 1, 4)\n",
        "plt.plot(time_steps, alpha_values, label='Alpha', color='orange')\n",
        "plt.xlabel('Time Steps')\n",
        "plt.ylabel('Alpha')\n",
        "plt.title('Predicted Alpha Values')\n",
        "plt.legend()\n",
        "\n",
        "plt.tight_layout()\n",
        "plt.show()\n"
      ],
      "metadata": {
        "id": "8p2QZz1T_LxB"
      },
      "execution_count": null,
      "outputs": []
    },
    {
      "cell_type": "code",
      "source": [
        "# Plotting the SEIRD graph using predicted values\n",
        "plt.figure(figsize=(10, 6))\n",
        "\n",
        "# Plotting predicted values for each compartment separately\n",
        "plt.plot(S_pred_denormalized, label='S')\n",
        "plt.plot(E_pred_denormalized, label='E')\n",
        "plt.plot(I_pred_denormalized, label='I')\n",
        "plt.plot(R_pred_denormalized, label='R')\n",
        "plt.plot(D_pred_denormalized, label='D')\n",
        "\n",
        "plt.title('Predicted SEIRD Values')\n",
        "plt.xlabel('Time')\n",
        "plt.ylabel('Number of Cases')\n",
        "plt.legend()\n",
        "plt.grid(True)\n",
        "plt.show()\n"
      ],
      "metadata": {
        "id": "cKGsUPS2vNyD"
      },
      "execution_count": null,
      "outputs": []
    },
    {
      "cell_type": "code",
      "source": [
        "# Plotting the EIRD graph using predicted values\n",
        "plt.figure(figsize=(10, 6))\n",
        "\n",
        "# Plotting predicted values for each compartment separately\n",
        "plt.plot(E_pred_denormalized, label='E')\n",
        "plt.plot(I_pred_denormalized, label='I')\n",
        "plt.plot(R_pred_denormalized, label='R')\n",
        "plt.plot(D_pred_denormalized, label='D')\n",
        "\n",
        "plt.title('Predicted EIRD Values')\n",
        "plt.xlabel('Time')\n",
        "plt.ylabel('Number of Cases')\n",
        "plt.legend()\n",
        "plt.grid(True)\n",
        "plt.show()\n"
      ],
      "metadata": {
        "id": "bfc4aCcYLY5Y"
      },
      "execution_count": null,
      "outputs": []
    }
  ]
}